{
 "cells": [
  {
   "attachments": {},
   "cell_type": "markdown",
   "metadata": {},
   "source": [
    "## 1D permanent case"
   ]
  },
  {
   "attachments": {},
   "cell_type": "markdown",
   "metadata": {},
   "source": [
    "This notebook aims to solve the heat diffusion equation defined by\n",
    "\n",
    "$$ Lap(T) = 0$$\n",
    "$$or$$\n",
    "$$\\frac{\\partial^2T}{\\partial x^2} = 0$$"
   ]
  },
  {
   "attachments": {},
   "cell_type": "markdown",
   "metadata": {},
   "source": [
    "#### Imports"
   ]
  },
  {
   "cell_type": "code",
   "execution_count": 2,
   "metadata": {},
   "outputs": [],
   "source": [
    "import numpy as np\n",
    "import matplotlib.pyplot as plt\n",
    "from matplotlib import tri, cm"
   ]
  },
  {
   "attachments": {},
   "cell_type": "markdown",
   "metadata": {},
   "source": [
    "#### Simulation Parameters"
   ]
  },
  {
   "cell_type": "code",
   "execution_count": 22,
   "metadata": {},
   "outputs": [],
   "source": [
    "# Simulation Parameters\n",
    "nx = 50\n",
    "Lx = 1.0\n",
    "\n",
    "alpha = 1.0\n",
    "rho = 1.0\n",
    "cv = 1.0\n",
    "\n",
    "Q = -0*rho*cv\n",
    "ne = (nx-1)"
   ]
  },
  {
   "attachments": {},
   "cell_type": "markdown",
   "metadata": {},
   "source": [
    "#### Mesh Generation"
   ]
  },
  {
   "cell_type": "code",
   "execution_count": 23,
   "metadata": {},
   "outputs": [],
   "source": [
    "X = np.linspace(0,Lx,nx)\n",
    "\n",
    "IEN = np.zeros( (ne,2), dtype = int)\n",
    "K   = np.zeros((nx,nx),dtype = float)\n",
    "M   = np.zeros((nx,nx),dtype = float)\n",
    "\n",
    "for e in range(0,ne):\n",
    "    IEN[e] = [e,e+1]\n",
    "\n",
    "for e in range(0,ne):\n",
    "    v0,v1 = IEN[e]\n",
    "    h = X[v1] - X[v0]\n",
    "    \n",
    "    kelem = (alpha/h)*np.array([[ 1,-1],\n",
    "                            [-1, 1]])\n",
    "    \n",
    "    melem = (h/6)*np.array([[ 2, 1],\n",
    "                            [ 1, 2]])\n",
    "    \n",
    "    for ilocal in range(0,2):\n",
    "        iglobal = IEN[e,ilocal]\n",
    "        for jlocal in range(0,2):\n",
    "            jglobal = IEN[e,jlocal]\n",
    "            \n",
    "            K[iglobal,jglobal] += kelem[ilocal,jlocal]\n",
    "            M[iglobal,jglobal] += melem[ilocal,jlocal]"
   ]
  },
  {
   "cell_type": "code",
   "execution_count": 24,
   "metadata": {},
   "outputs": [],
   "source": [
    "qvec = np.full(nx, Q/(rho*cv), dtype = float)\n",
    "\n",
    "A = K.copy()\n",
    "b = M@qvec"
   ]
  },
  {
   "cell_type": "code",
   "execution_count": 25,
   "metadata": {},
   "outputs": [],
   "source": [
    "# imposicao das condicoes de contorno de Dirichlet\n",
    "#-------------------------------------------------- \n",
    "# bottom boundary\n",
    "for i in [0,nx - 1]:\n",
    " A[i,:] = 0.0\n",
    " A[i,i] = 1.0"
   ]
  },
  {
   "cell_type": "code",
   "execution_count": 26,
   "metadata": {},
   "outputs": [],
   "source": [
    "# linear system solution\n",
    "# first, we inverse the A matrix\n",
    "Ainv = np.linalg.inv(A)"
   ]
  },
  {
   "attachments": {},
   "cell_type": "markdown",
   "metadata": {},
   "source": [
    "### Test #1: Constant on X axis"
   ]
  },
  {
   "cell_type": "code",
   "execution_count": 27,
   "metadata": {},
   "outputs": [],
   "source": [
    "# Dirichlet boundary conditions\n",
    "#-------------------------------------------------- \n",
    "b[0] = 0\n",
    "b[-1] = 100"
   ]
  },
  {
   "cell_type": "code",
   "execution_count": 28,
   "metadata": {},
   "outputs": [],
   "source": [
    "T = Ainv@b"
   ]
  },
  {
   "cell_type": "code",
   "execution_count": 32,
   "metadata": {},
   "outputs": [
    {
     "data": {
      "image/png": "[encoded data removed]",
      "text/plain": [
       "<Figure size 640x480 with 1 Axes>"
      ]
     },
     "metadata": {},
     "output_type": "display_data"
    }
   ],
   "source": [
    "plt.plot(T)\n",
    "plt.show()"
   ]
  },
  {
   "cell_type": "code",
   "execution_count": 30,
   "metadata": {},
   "outputs": [],
   "source": [
    "referenceFunction = lambda x : 100*x/Lx"
   ]
  },
  {
   "cell_type": "code",
   "execution_count": 31,
   "metadata": {},
   "outputs": [
    {
     "name": "stdout",
     "output_type": "stream",
     "text": [
      "Mean squared error:  1.91e-13\n"
     ]
    }
   ],
   "source": [
    "MSQError = np.sqrt(sum((referenceFunction(X) - T)**2)/T.shape[0])\n",
    "\n",
    "print('Mean squared error:  {:.2e}'.format(MSQError))"
   ]
  },
  {
   "attachments": {},
   "cell_type": "markdown",
   "metadata": {},
   "source": [
    "### Test #2: Manufactured solution"
   ]
  },
  {
   "attachments": {},
   "cell_type": "markdown",
   "metadata": {},
   "source": [
    "The manufactured solution will be following the equation: \n",
    "\n",
    "$$ T(x) = x^3 -20 x^2 + 20 x$$"
   ]
  },
  {
   "cell_type": "code",
   "execution_count": 52,
   "metadata": {},
   "outputs": [],
   "source": [
    "referenceFunction = lambda x: 100*(x**3 - 20*x**2 + 20*X)\n",
    "referenceDeriv = lambda x: 100*(6*x - 40)\n",
    "\n",
    "Q = -referenceDeriv(X)*rho*cv\n",
    "qvec = Q/(rho*cv)\n",
    "\n",
    "b = M@qvec"
   ]
  },
  {
   "cell_type": "code",
   "execution_count": 53,
   "metadata": {},
   "outputs": [],
   "source": [
    "# Dirichlet boundary conditions\n",
    "#-------------------------------------------------- \n",
    "b[0] = 0\n",
    "b[-1] = 100"
   ]
  },
  {
   "cell_type": "code",
   "execution_count": 54,
   "metadata": {},
   "outputs": [],
   "source": [
    "T = Ainv@b"
   ]
  },
  {
   "cell_type": "code",
   "execution_count": 55,
   "metadata": {},
   "outputs": [
    {
     "data": {
      "image/png": "[encoded data removed]",
      "text/plain": [
       "<Figure size 640x480 with 1 Axes>"
      ]
     },
     "metadata": {},
     "output_type": "display_data"
    }
   ],
   "source": [
    "plt.plot(T)\n",
    "plt.show()"
   ]
  },
  {
   "cell_type": "code",
   "execution_count": 56,
   "metadata": {},
   "outputs": [
    {
     "name": "stdout",
     "output_type": "stream",
     "text": [
      "Mean squared error:  4.08e-12\n"
     ]
    }
   ],
   "source": [
    "MSQError = np.sqrt(sum((referenceFunction(X) - T)**2)/T.shape[0])\n",
    "\n",
    "print('Mean squared error:  {:.2e}'.format(MSQError))"
   ]
  }
 ],
 "metadata": {
  "kernelspec": {
   "display_name": "base",
   "language": "python",
   "name": "python3"
  },
  "language_info": {
   "codemirror_mode": {
    "name": "ipython",
    "version": 3
   },
   "file_extension": ".py",
   "mimetype": "text/x-python",
   "name": "python",
   "nbconvert_exporter": "python",
   "pygments_lexer": "ipython3",
   "version": "3.10.9"
  },
  "orig_nbformat": 4
 },
 "nbformat": 4,
 "nbformat_minor": 2
}
